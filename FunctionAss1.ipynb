{
 "cells": [
  {
   "cell_type": "code",
   "execution_count": null,
   "id": "57b55f04-45dc-4637-99d9-fe9c2ae81782",
   "metadata": {},
   "outputs": [],
   "source": [
    "#create a class and function and list out the items"
   ]
  },
  {
   "cell_type": "code",
   "execution_count": 26,
   "id": "cfa56152-0ad5-47fc-affa-093f875a2f72",
   "metadata": {},
   "outputs": [
    {
     "name": "stdout",
     "output_type": "stream",
     "text": [
      "Sub-fields in AI are:\n",
      "Machine learning\n",
      "Neural Networks\n",
      "Vision\n",
      "Robotics\n",
      "Speech Processing\n",
      "Natural language processing\n"
     ]
    }
   ],
   "source": [
    "class SubfieldsInAI:\n",
    "    def Subfields():\n",
    "        sub_list=['Machine learning','Neural Networks','Vision','Robotics','Speech Processing','Natural language processing']\n",
    "        print(\"Sub-fields in AI are:\")\n",
    "        for El in sub_list:\n",
    "            print(El)\n",
    "SubfieldsInAI.Subfields()"
   ]
  },
  {
   "cell_type": "code",
   "execution_count": null,
   "id": "32b73454-1673-4fac-93a2-6a4360efe8df",
   "metadata": {},
   "outputs": [],
   "source": [
    "#create a function that checks whether the given number is odd or even"
   ]
  },
  {
   "cell_type": "code",
   "execution_count": 28,
   "id": "9d3b12f3-0c3c-4a2f-9240-0ba960786034",
   "metadata": {},
   "outputs": [
    {
     "name": "stdin",
     "output_type": "stream",
     "text": [
      "Enter a number: 52452\n"
     ]
    },
    {
     "name": "stdout",
     "output_type": "stream",
     "text": [
      "52452 is Even number\n"
     ]
    }
   ],
   "source": [
    "class Oddeven:\n",
    "    def OddEven():\n",
    "        Num=int(input(\"Enter a number:\"))\n",
    "        if((Num%2==0)):\n",
    "            print(Num,\"is Even number\")\n",
    "        else:\n",
    "            print(Num,\"is Odd number\")\n",
    "Oddeven.OddEven()"
   ]
  },
  {
   "cell_type": "code",
   "execution_count": null,
   "id": "69892711-c4ed-496c-a921-02d13bff3aed",
   "metadata": {},
   "outputs": [],
   "source": [
    "#create a function that tells eligibility of marriage for male and female according to their age limit like 21 for male and 18 for female"
   ]
  },
  {
   "cell_type": "code",
   "execution_count": 39,
   "id": "5a56031e-b3ce-4847-9718-1b56b04158d0",
   "metadata": {},
   "outputs": [
    {
     "name": "stdin",
     "output_type": "stream",
     "text": [
      "Your Gender: Male\n",
      "Your Age 20\n"
     ]
    },
    {
     "name": "stdout",
     "output_type": "stream",
     "text": [
      "Not Eligible for Marriage\n"
     ]
    }
   ],
   "source": [
    "class EligiblityForMarriage:\n",
    "    def Eligible():\n",
    "        Gender=str(input(\"Your Gender:\"))\n",
    "        Age=int(input(\"Your Age\"))\n",
    "        i='Male'\n",
    "        j='Female'\n",
    "        if(Gender==i and Age<21):\n",
    "          print(\"Not Eligible for Marriage\")\n",
    "        elif(Gender==j and Age<18):\n",
    "          print(\"Not Eligible for Marriage\")\n",
    "        else:\n",
    "          print(\"Eligible for Marriage\")\n",
    "EligiblityForMarriage.Eligible()"
   ]
  },
  {
   "cell_type": "code",
   "execution_count": null,
   "id": "1c45c92b-21dd-48fd-84d3-6dd066d68c07",
   "metadata": {},
   "outputs": [],
   "source": [
    "#calculate the percentage of your 10th Mark (Method 1)"
   ]
  },
  {
   "cell_type": "code",
   "execution_count": 41,
   "id": "e23a6d89-4858-4cf4-98be-0abfa4833077",
   "metadata": {},
   "outputs": [
    {
     "name": "stdin",
     "output_type": "stream",
     "text": [
      "Subject1= 98\n",
      "Subject2= 87\n",
      "Subject3= 95\n",
      "Subject4= 95\n",
      "Subject5= 93\n"
     ]
    },
    {
     "name": "stdout",
     "output_type": "stream",
     "text": [
      "Total: 468\n",
      "Percentage: 93.60000000000001\n"
     ]
    }
   ],
   "source": [
    "class FindPercent:\n",
    "    def percentage():\n",
    "        sub1=int(input(\"Subject1=\"))\n",
    "        sub2=int(input(\"Subject2=\"))\n",
    "        sub3=int(input(\"Subject3=\"))\n",
    "        sub4=int(input(\"Subject4=\"))\n",
    "        sub5=int(input(\"Subject5=\"))\n",
    "        Total=sub1+sub2+sub3+sub4+sub5\n",
    "        print(\"Total:\",Total)\n",
    "        per=(Total/500)*100\n",
    "        print(\"Percentage:\",per)\n",
    "FindPercent.percentage()"
   ]
  },
  {
   "cell_type": "code",
   "execution_count": null,
   "id": "4f731617-2dea-45e0-b2fa-20d2be840d91",
   "metadata": {},
   "outputs": [],
   "source": [
    "#Method2"
   ]
  },
  {
   "cell_type": "markdown",
   "id": "59a7eed9-a575-432a-a34a-85a2071ef969",
   "metadata": {},
   "source": [
    "class FindPercent:\n",
    "    Marks=[]\n",
    "    def percentage(self):\n",
    "        for i in range(5):\n",
    "            sub=int(input(f\"Subject{i+1}: \"))\n",
    "  #  for mark in range(1,6):\n",
    "      #  mark=int(input(i))\n",
    "            Marks.append(sub)\n",
    "#for i in range(1,6):\n",
    " #   print(\"Subject\",i,\"=\",sub)\n",
    "        total=sum(Marks)\n",
    "    print(\"Total:\",total)\n",
    "    percentage=total/5\n",
    "    print(\"Percentage:\",percentage)\n",
    "    FindPercent.percentage()"
   ]
  },
  {
   "cell_type": "markdown",
   "id": "225fc350-c86c-4b49-8d93-79c88d11e3f8",
   "metadata": {},
   "source": [
    "class FindPercent:\n",
    "    def percentage():\n",
    "        #Subject=[1,2,3,4,5]\n",
    "        #tup=[98,87,95,95,93]\n",
    "        Subject=['Subject1','Subject2','Subject3','Subject4','Subject5']\n",
    "     #   for sub in Subject:\n",
    "          #  print(\"\",sub,end=\" \")\n",
    "           # Subject=['Subject1','Subject2','Subject3','Subject4','Subject5']\n",
    "        tup=[98,87,95,95,93]\n",
    "        Merge=list(zip(Subject,tup))\n",
    "        print(\" \",Merge,\" \")\n",
    "      #  for Mark in tup:\n",
    "             # tup=[98,87,95,95,93]\n",
    "           #   print(sub+\"=\"+Mark)\n",
    "            #  print(\"\",Mark,end=\" \")\n",
    "      #  for Mark in Sub_list:\n",
    "           # print(i,\"=\",Sub_list)\n",
    "        Total=tup[0]+tup[1]+tup[2]+tup[3]+tup[4]\n",
    "        print(\"Total:\",Total)\n",
    "        per=(Total/500)*100\n",
    "        print(\"Percentage:\",per)\n",
    "FindPercent.percentage()"
   ]
  },
  {
   "cell_type": "code",
   "execution_count": null,
   "id": "0a0895a5-ebaf-4607-b1a3-d9c895c7b15a",
   "metadata": {},
   "outputs": [],
   "source": [
    "#print area and perimeter of triangle using class and function(Method 1)"
   ]
  },
  {
   "cell_type": "code",
   "execution_count": 42,
   "id": "b5b0d4af-2a93-4894-a719-e8028e52fe3e",
   "metadata": {},
   "outputs": [
    {
     "name": "stdin",
     "output_type": "stream",
     "text": [
      "Height: 32\n",
      "Breadth: 34\n"
     ]
    },
    {
     "name": "stdout",
     "output_type": "stream",
     "text": [
      "Area of Triangle: 544.0\n"
     ]
    },
    {
     "name": "stdin",
     "output_type": "stream",
     "text": [
      "Height1: 2\n",
      "Height2: 4\n",
      "Height3: 4\n"
     ]
    },
    {
     "name": "stdout",
     "output_type": "stream",
     "text": [
      "Perimeter of Triangle: 10\n"
     ]
    }
   ],
   "source": [
    "class triangle:\n",
    "    def triangle():\n",
    "        H=int(input(\"Height:\"))\n",
    "        B=int(input(\"Breadth:\"))\n",
    "      #  print(\"Height:\",H)\n",
    "       # print(\"Breadth:\",B)\n",
    "        AF=(H*B)/2\n",
    "        print(\"Area of Triangle:\",AF)\n",
    "        He1=int(input(\"Height1:\"))\n",
    "        He2=int(input(\"Height2:\"))\n",
    "        He3=int(input(\"Height3:\"))\n",
    "      #  peri=['Height1','Height2','Breadth']\n",
    "       # Merge=list(zip(peri,tup))\n",
    "      #  print(peri,\":\",tup)\n",
    "      #  print(Merge)g\n",
    "        peri_for=He1+He2+He3\n",
    "        print(\"Perimeter of Triangle:\",peri_for)\n",
    "triangle.triangle()"
   ]
  },
  {
   "cell_type": "markdown",
   "id": "1f9e6363-d7e8-4f10-b686-b05acb57b1e9",
   "metadata": {},
   "source": [
    "class triangle:\n",
    "    def triangle():\n",
    "        Height=32\n",
    "        Breadth=34\n",
    "        print(\"Height:\",Height)\n",
    "        print(\"Breadth:\",Breadth)\n",
    "        AF=(Height*Breadth)/2\n",
    "        print(\"Area of Triangle:\",AF)\n",
    "        tup=[2,4,4]\n",
    "        peri=['Height1','Height2','Breadth']\n",
    "        Merge=list(zip(peri,tup))\n",
    "      #  print(peri,\":\",tup)\n",
    "        print(Merge)\n",
    "        peri_for=tup[0]+tup[1]+tup[2]\n",
    "        print(\"Perimeter of Triangle:\",peri_for)\n",
    "triangle.triangle()"
   ]
  }
 ],
 "metadata": {
  "kernelspec": {
   "display_name": "Python 3 (ipykernel)",
   "language": "python",
   "name": "python3"
  },
  "language_info": {
   "codemirror_mode": {
    "name": "ipython",
    "version": 3
   },
   "file_extension": ".py",
   "mimetype": "text/x-python",
   "name": "python",
   "nbconvert_exporter": "python",
   "pygments_lexer": "ipython3",
   "version": "3.12.7"
  }
 },
 "nbformat": 4,
 "nbformat_minor": 5
}
